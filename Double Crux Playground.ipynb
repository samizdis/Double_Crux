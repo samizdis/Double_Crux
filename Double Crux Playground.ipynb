{
 "cells": [
  {
   "cell_type": "code",
   "execution_count": 17,
   "id": "62795790",
   "metadata": {},
   "outputs": [],
   "source": [
    "import ipywidgets as widgets\n",
    "import pandas as pd\n",
    "import numpy as np\n",
    "import pprint"
   ]
  },
  {
   "cell_type": "code",
   "execution_count": 72,
   "id": "6d334a26",
   "metadata": {},
   "outputs": [],
   "source": [
    "person_list = []\n",
    "\n",
    "def person_df():\n",
    "    df = pd.DataFrame(person_list,\n",
    "            columns=['Name', 'ID']+[f'Q{i+1}' for i in range(num_questions)],\n",
    "                            )\n",
    "    df.set_index(['Name', 'ID'], inplace=True)\n",
    "    return df"
   ]
  },
  {
   "cell_type": "code",
   "execution_count": 70,
   "id": "4b74c09a",
   "metadata": {},
   "outputs": [],
   "source": [
    "num_questions = 3"
   ]
  },
  {
   "cell_type": "code",
   "execution_count": 73,
   "id": "7835a377",
   "metadata": {},
   "outputs": [
    {
     "data": {
      "application/vnd.jupyter.widget-view+json": {
       "model_id": "ebd508cb76734d7b84f003e8c7b800d3",
       "version_major": 2,
       "version_minor": 0
      },
      "text/plain": [
       "Text(value='', description='Name:', placeholder='Name')"
      ]
     },
     "metadata": {},
     "output_type": "display_data"
    },
    {
     "data": {
      "application/vnd.jupyter.widget-view+json": {
       "model_id": "983b12835d974caa9cd7022237425e70",
       "version_major": 2,
       "version_minor": 0
      },
      "text/plain": [
       "IntText(value=0, description='ID Num:')"
      ]
     },
     "metadata": {},
     "output_type": "display_data"
    },
    {
     "data": {
      "application/vnd.jupyter.widget-view+json": {
       "model_id": "e8339da461e14cb3a03e02217af650df",
       "version_major": 2,
       "version_minor": 0
      },
      "text/plain": [
       "Box(children=(IntText(value=0), IntText(value=0), IntText(value=0)))"
      ]
     },
     "metadata": {},
     "output_type": "display_data"
    },
    {
     "data": {
      "application/vnd.jupyter.widget-view+json": {
       "model_id": "7f77eea85643450ea4ad0007d5cabfcf",
       "version_major": 2,
       "version_minor": 0
      },
      "text/plain": [
       "Button(button_style='success', description='Add person', icon='plus', style=ButtonStyle(), tooltip='Add person…"
      ]
     },
     "metadata": {},
     "output_type": "display_data"
    },
    {
     "data": {
      "application/vnd.jupyter.widget-view+json": {
       "model_id": "e8f73827af2a4bbfbb1671bfa13ab6eb",
       "version_major": 2,
       "version_minor": 0
      },
      "text/plain": [
       "Output()"
      ]
     },
     "metadata": {},
     "output_type": "display_data"
    }
   ],
   "source": [
    "name = widgets.Text(\n",
    " placeholder='Name',\n",
    " description='Name:'\n",
    " )\n",
    "\n",
    "num = widgets.IntText(\n",
    " placeholder='ID Num',\n",
    " description='ID Num:'\n",
    " )\n",
    "\n",
    "scores = widgets.Box([\n",
    "    widgets.IntText(\n",
    "        placeholder=f'Score {i}',\n",
    "        description='')\n",
    "    for i in range(num_questions)]\n",
    ")\n",
    "\n",
    "\n",
    "button = widgets.Button(\n",
    "    description='Add person',\n",
    "    disabled=False,\n",
    "    button_style='success', # 'success', 'info', 'warning', 'danger' or ''\n",
    "    tooltip='Add person',\n",
    "    icon='plus' # (FontAwesome names without the `fa-` prefix)\n",
    ")\n",
    "\n",
    "output = widgets.Output()\n",
    "\n",
    "def add_to_list(*args):\n",
    "    person_list.append([name.value, num.value] + [child.value for child in scores.children])\n",
    "    with output:\n",
    "        output.clear_output()\n",
    "        display(person_df())\n",
    "        \n",
    "\n",
    "button.on_click(add_to_list)\n",
    "\n",
    "display(name)\n",
    "display(num)\n",
    "display(scores)\n",
    "display(button)\n",
    "display(output)"
   ]
  },
  {
   "cell_type": "code",
   "execution_count": 19,
   "id": "32b19055",
   "metadata": {},
   "outputs": [],
   "source": [
    "def biggest_difference(row1, row2):\n",
    "    return (row1-row2).abs().max()"
   ]
  },
  {
   "cell_type": "code",
   "execution_count": 80,
   "id": "9ac93113",
   "metadata": {},
   "outputs": [],
   "source": [
    "df = person_df()"
   ]
  },
  {
   "cell_type": "code",
   "execution_count": 30,
   "id": "55de9171",
   "metadata": {},
   "outputs": [],
   "source": [
    "def build_distance_matrix(response_df, metric=biggest_difference):\n",
    "\n",
    "    distance_matrix = pd.DataFrame(index=response_df.index,\n",
    "                                   columns=response_df.index)\n",
    "\n",
    "    for idx, row in response_df.iterrows():\n",
    "        for idy, col in response_df.iterrows():        \n",
    "            distance_matrix.loc[idx, idy] = metric(row, col)\n",
    "\n",
    "    return distance_matrix"
   ]
  },
  {
   "cell_type": "code",
   "execution_count": 121,
   "id": "237687e4",
   "metadata": {},
   "outputs": [
    {
     "data": {
      "text/html": [
       "<div><div id=70688af2-58f6-46b3-a9cc-0604c7821211 style=\"display:none; background-color:#9D6CFF; color:white; width:200px; height:30px; padding-left:5px; border-radius:4px; flex-direction:row; justify-content:space-around; align-items:center;\" onmouseover=\"this.style.backgroundColor='#BA9BF8'\" onmouseout=\"this.style.backgroundColor='#9D6CFF'\" onclick=\"window.commands?.execute('create-mitosheet-from-dataframe-output');\">See Full Dataframe in Mito</div> <script> if (window.commands.hasCommand('create-mitosheet-from-dataframe-output')) document.getElementById('70688af2-58f6-46b3-a9cc-0604c7821211').style.display = 'flex' </script> <table border=\"1\" class=\"dataframe\">\n",
       "  <thead>\n",
       "    <tr>\n",
       "      <th></th>\n",
       "      <th>Name</th>\n",
       "      <th>Bertie</th>\n",
       "      <th>Jeremy</th>\n",
       "      <th>Μολλυ</th>\n",
       "      <th>Kar,</th>\n",
       "      <th>Adam</th>\n",
       "    </tr>\n",
       "    <tr>\n",
       "      <th></th>\n",
       "      <th>ID</th>\n",
       "      <th>8</th>\n",
       "      <th>3</th>\n",
       "      <th>9</th>\n",
       "      <th>10</th>\n",
       "      <th>5</th>\n",
       "    </tr>\n",
       "    <tr>\n",
       "      <th>Name</th>\n",
       "      <th>ID</th>\n",
       "      <th></th>\n",
       "      <th></th>\n",
       "      <th></th>\n",
       "      <th></th>\n",
       "      <th></th>\n",
       "    </tr>\n",
       "  </thead>\n",
       "  <tbody>\n",
       "    <tr>\n",
       "      <th>Bertie</th>\n",
       "      <th>8</th>\n",
       "      <td>0</td>\n",
       "      <td>8</td>\n",
       "      <td>1</td>\n",
       "      <td>7</td>\n",
       "      <td>4</td>\n",
       "    </tr>\n",
       "    <tr>\n",
       "      <th>Jeremy</th>\n",
       "      <th>3</th>\n",
       "      <td>8</td>\n",
       "      <td>0</td>\n",
       "      <td>7</td>\n",
       "      <td>3</td>\n",
       "      <td>7</td>\n",
       "    </tr>\n",
       "    <tr>\n",
       "      <th>Μολλυ</th>\n",
       "      <th>9</th>\n",
       "      <td>1</td>\n",
       "      <td>7</td>\n",
       "      <td>0</td>\n",
       "      <td>6</td>\n",
       "      <td>4</td>\n",
       "    </tr>\n",
       "    <tr>\n",
       "      <th>Kar,</th>\n",
       "      <th>10</th>\n",
       "      <td>7</td>\n",
       "      <td>3</td>\n",
       "      <td>6</td>\n",
       "      <td>0</td>\n",
       "      <td>6</td>\n",
       "    </tr>\n",
       "    <tr>\n",
       "      <th>Adam</th>\n",
       "      <th>5</th>\n",
       "      <td>4</td>\n",
       "      <td>7</td>\n",
       "      <td>4</td>\n",
       "      <td>6</td>\n",
       "      <td>0</td>\n",
       "    </tr>\n",
       "  </tbody>\n",
       "</table></div>"
      ],
      "text/plain": [
       "Name      Bertie Jeremy Μολλυ Kar, Adam\n",
       "ID            8      3     9    10   5 \n",
       "Name   ID                              \n",
       "Bertie 8       0      8     1    7    4\n",
       "Jeremy 3       8      0     7    3    7\n",
       "Μολλυ  9       1      7     0    6    4\n",
       "Kar,   10      7      3     6    0    6\n",
       "Adam   5       4      7     4    6    0"
      ]
     },
     "execution_count": 121,
     "metadata": {},
     "output_type": "execute_result"
    }
   ],
   "source": [
    "build_distance_matrix(person_df())"
   ]
  },
  {
   "cell_type": "code",
   "execution_count": 122,
   "id": "dc8ef933",
   "metadata": {},
   "outputs": [],
   "source": [
    "dm = build_distance_matrix(person_df())"
   ]
  },
  {
   "cell_type": "code",
   "execution_count": 148,
   "id": "e95ec8c0",
   "metadata": {},
   "outputs": [],
   "source": [
    "def random_pairs(distance_matrix):\n",
    "    shuffled_index = dm.sample(frac=1).index\n",
    "    pairs = np.array_split(shuffled_index, np.ceil(len(shuffled_index)/2))\n",
    "    return pairs"
   ]
  },
  {
   "cell_type": "code",
   "execution_count": 151,
   "id": "7e729e22",
   "metadata": {},
   "outputs": [
    {
     "data": {
      "text/plain": [
       "[Index([('Bertie', 8), ('Adam', 5)], dtype='object'),\n",
       " Index([('Kar,', 10), ('Μολλυ', 9)], dtype='object'),\n",
       " Index([('Jeremy', 3)], dtype='object')]"
      ]
     },
     "execution_count": 151,
     "metadata": {},
     "output_type": "execute_result"
    }
   ],
   "source": [
    "random_pairs(dm)"
   ]
  },
  {
   "cell_type": "code",
   "execution_count": 184,
   "id": "264483c8",
   "metadata": {},
   "outputs": [],
   "source": [
    "def score_pair(pair, matrix):\n",
    "    return matrix.loc[pair[0], pair[1]]"
   ]
  },
  {
   "cell_type": "code",
   "execution_count": 185,
   "id": "2a105e2c",
   "metadata": {},
   "outputs": [],
   "source": [
    "def total_pair_score(pairs, dm):\n",
    "    return sum([score_pair(p, dm) for p in pairs if len(p)>1])"
   ]
  },
  {
   "cell_type": "code",
   "execution_count": 188,
   "id": "f32ba117",
   "metadata": {},
   "outputs": [],
   "source": [
    "def min_pair_score(pairs, dm):\n",
    "    return min([score_pair(p, dm) for p in pairs if len(p)>1])"
   ]
  },
  {
   "cell_type": "code",
   "execution_count": 192,
   "id": "2d22cfcd",
   "metadata": {},
   "outputs": [
    {
     "data": {
      "text/plain": [
       "[Index([('Bertie', 8), ('Adam', 5)], dtype='object'),\n",
       " Index([('Μολλυ', 9), ('Jeremy', 3)], dtype='object'),\n",
       " Index([('Kar,', 10)], dtype='object')]"
      ]
     },
     "execution_count": 192,
     "metadata": {},
     "output_type": "execute_result"
    }
   ],
   "source": [
    "pairs = random_pairs(dm)\n",
    "pairs"
   ]
  },
  {
   "cell_type": "code",
   "execution_count": 212,
   "id": "0e48b9d1",
   "metadata": {},
   "outputs": [
    {
     "data": {
      "text/plain": [
       "pandas.core.indexes.base.Index"
      ]
     },
     "execution_count": 212,
     "metadata": {},
     "output_type": "execute_result"
    }
   ],
   "source": [
    "type(pairs[0])"
   ]
  },
  {
   "cell_type": "code",
   "execution_count": 193,
   "id": "68c364a0",
   "metadata": {},
   "outputs": [
    {
     "data": {
      "text/plain": [
       "11"
      ]
     },
     "execution_count": 193,
     "metadata": {},
     "output_type": "execute_result"
    }
   ],
   "source": [
    "total_pair_score(pairs, dm)"
   ]
  },
  {
   "cell_type": "code",
   "execution_count": 194,
   "id": "2a722043",
   "metadata": {},
   "outputs": [
    {
     "data": {
      "text/plain": [
       "4"
      ]
     },
     "execution_count": 194,
     "metadata": {},
     "output_type": "execute_result"
    }
   ],
   "source": [
    "min_pair_score(pairs, dm)"
   ]
  },
  {
   "cell_type": "code",
   "execution_count": 213,
   "id": "46f21d05",
   "metadata": {},
   "outputs": [],
   "source": [
    "def pair_to_tuple(pair: pd.Index):\n",
    "    return tuple(pair.values.tolist())"
   ]
  },
  {
   "cell_type": "code",
   "execution_count": 211,
   "id": "e323b8d7",
   "metadata": {},
   "outputs": [
    {
     "data": {
      "text/plain": [
       "{(('Bertie', 8), ('Adam', 5)): 1}"
      ]
     },
     "execution_count": 211,
     "metadata": {},
     "output_type": "execute_result"
    }
   ],
   "source": [
    "shuffles"
   ]
  },
  {
   "cell_type": "code",
   "execution_count": 218,
   "id": "178adabc",
   "metadata": {},
   "outputs": [
    {
     "data": {
      "text/plain": [
       "{((('Jeremy', 3), ('Kar,', 10)),\n",
       "  (('Adam', 5), ('Bertie', 8)),\n",
       "  (('Μολλυ', 9),)): {'total': 7, 'min': 3},\n",
       " ((('Jeremy', 3), ('Kar,', 10)),\n",
       "  (('Bertie', 8), ('Adam', 5)),\n",
       "  (('Μολλυ', 9),)): {'total': 7, 'min': 3},\n",
       " ((('Bertie', 8), ('Kar,', 10)),\n",
       "  (('Jeremy', 3), ('Adam', 5)),\n",
       "  (('Μολλυ', 9),)): {'total': 14, 'min': 7},\n",
       " ((('Bertie', 8), ('Kar,', 10)),\n",
       "  (('Adam', 5), ('Jeremy', 3)),\n",
       "  (('Μολλυ', 9),)): {'total': 14, 'min': 7},\n",
       " ((('Μολλυ', 9), ('Jeremy', 3)),\n",
       "  (('Kar,', 10), ('Bertie', 8)),\n",
       "  (('Adam', 5),)): {'total': 14, 'min': 7}}"
      ]
     },
     "execution_count": 218,
     "metadata": {},
     "output_type": "execute_result"
    }
   ],
   "source": [
    "shuffles = dict()\n",
    "\n",
    "for i in range(5):\n",
    "    pairs = random_pairs(dm)\n",
    "    \n",
    "    shuffles[tuple(pair_to_tuple(p) for p in pairs)] = {'total': total_pair_score(pairs, dm),\n",
    "                                                   'min': min_pair_score(pairs, dm)\n",
    "                                                  }\n",
    "    \n",
    "shuffles"
   ]
  },
  {
   "cell_type": "code",
   "execution_count": 36,
   "id": "81732f11",
   "metadata": {},
   "outputs": [],
   "source": [
    "def max_pair(distance_matrix):\n",
    "    player1 = distance_matrix.max().idxmax()\n",
    "    player2 = distance_matrix.idxmax()[player1]\n",
    "    \n",
    "    return(player1, player2)"
   ]
  },
  {
   "cell_type": "code",
   "execution_count": 220,
   "id": "b3e82624",
   "metadata": {},
   "outputs": [
    {
     "data": {
      "text/plain": [
       "Name    ID\n",
       "Bertie  8     (Jeremy, 3)\n",
       "Jeremy  3     (Bertie, 8)\n",
       "Μολλυ   9     (Jeremy, 3)\n",
       "Kar,    10    (Bertie, 8)\n",
       "Adam    5     (Jeremy, 3)\n",
       "dtype: object"
      ]
     },
     "execution_count": 220,
     "metadata": {},
     "output_type": "execute_result"
    }
   ],
   "source": [
    "dm.idxmax()"
   ]
  },
  {
   "cell_type": "code",
   "execution_count": 222,
   "id": "44e48de1",
   "metadata": {},
   "outputs": [
    {
     "data": {
      "text/plain": [
       "('Bertie', 8)"
      ]
     },
     "execution_count": 222,
     "metadata": {},
     "output_type": "execute_result"
    }
   ],
   "source": [
    "dm.max().idxmax()"
   ]
  },
  {
   "cell_type": "code",
   "execution_count": 232,
   "id": "1fb2285f",
   "metadata": {},
   "outputs": [
    {
     "data": {
      "text/plain": [
       "5"
      ]
     },
     "execution_count": 232,
     "metadata": {},
     "output_type": "execute_result"
    }
   ],
   "source": [
    "dm.columns.size"
   ]
  },
  {
   "cell_type": "code",
   "execution_count": 230,
   "id": "974a97c5",
   "metadata": {},
   "outputs": [
    {
     "data": {
      "text/plain": [
       "(('Bertie', 8), ('Jeremy', 3))"
      ]
     },
     "execution_count": 230,
     "metadata": {},
     "output_type": "execute_result"
    }
   ],
   "source": [
    "max_pair(distance_matrix)"
   ]
  },
  {
   "cell_type": "code",
   "execution_count": 33,
   "id": "8ee01944",
   "metadata": {},
   "outputs": [],
   "source": [
    "def greedy_sort(distance_matrix):\n",
    "    \n",
    "    sorted_pairs = []\n",
    "    \n",
    "    dm = distance_matrix.copy()\n",
    "    \n",
    "    while dm.columns.size > 1:\n",
    "        a, b = max_pair(dm)\n",
    "\n",
    "        sorted_pairs.append((a, b))\n",
    "\n",
    "        dm.drop([a, b], inplace=True, axis='columns')\n",
    "        dm.drop([a, b], inplace=True, axis='index')\n",
    "        \n",
    "    if dm.columns.size > 0:\n",
    "        sorted_pairs.append(dm.max().idxmax())\n",
    "        \n",
    "    return sorted_pairs"
   ]
  },
  {
   "cell_type": "code",
   "execution_count": 264,
   "id": "20545daa",
   "metadata": {},
   "outputs": [
    {
     "name": "stdout",
     "output_type": "stream",
     "text": [
      "(('Bertie', 8), ('Jeremy', 3))\n",
      "(('Μολλυ', 9), ('Kar,', 10))\n",
      "('Adam', 5)\n"
     ]
    }
   ],
   "source": [
    "print('\\n'.join(str(p) for p in greedy_sort(dm)))"
   ]
  },
  {
   "cell_type": "code",
   "execution_count": 240,
   "id": "8b08e148",
   "metadata": {},
   "outputs": [
    {
     "data": {
      "text/html": [
       "<div><div id=9e289b4b-c84c-4eac-a26a-0989bf88bf5f style=\"display:none; background-color:#9D6CFF; color:white; width:200px; height:30px; padding-left:5px; border-radius:4px; flex-direction:row; justify-content:space-around; align-items:center;\" onmouseover=\"this.style.backgroundColor='#BA9BF8'\" onmouseout=\"this.style.backgroundColor='#9D6CFF'\" onclick=\"window.commands?.execute('create-mitosheet-from-dataframe-output');\">See Full Dataframe in Mito</div> <script> if (window.commands.hasCommand('create-mitosheet-from-dataframe-output')) document.getElementById('9e289b4b-c84c-4eac-a26a-0989bf88bf5f').style.display = 'flex' </script> <table border=\"1\" class=\"dataframe\">\n",
       "  <thead>\n",
       "    <tr>\n",
       "      <th></th>\n",
       "      <th>Name</th>\n",
       "      <th>Bertie</th>\n",
       "      <th>Jeremy</th>\n",
       "      <th>Μολλυ</th>\n",
       "      <th>Kar,</th>\n",
       "      <th>Adam</th>\n",
       "    </tr>\n",
       "    <tr>\n",
       "      <th></th>\n",
       "      <th>ID</th>\n",
       "      <th>8</th>\n",
       "      <th>3</th>\n",
       "      <th>9</th>\n",
       "      <th>10</th>\n",
       "      <th>5</th>\n",
       "    </tr>\n",
       "    <tr>\n",
       "      <th>Name</th>\n",
       "      <th>ID</th>\n",
       "      <th></th>\n",
       "      <th></th>\n",
       "      <th></th>\n",
       "      <th></th>\n",
       "      <th></th>\n",
       "    </tr>\n",
       "  </thead>\n",
       "  <tbody>\n",
       "    <tr>\n",
       "      <th>Bertie</th>\n",
       "      <th>8</th>\n",
       "      <td>0</td>\n",
       "      <td>8</td>\n",
       "      <td>1</td>\n",
       "      <td>7</td>\n",
       "      <td>4</td>\n",
       "    </tr>\n",
       "    <tr>\n",
       "      <th>Jeremy</th>\n",
       "      <th>3</th>\n",
       "      <td>8</td>\n",
       "      <td>0</td>\n",
       "      <td>7</td>\n",
       "      <td>3</td>\n",
       "      <td>7</td>\n",
       "    </tr>\n",
       "    <tr>\n",
       "      <th>Μολλυ</th>\n",
       "      <th>9</th>\n",
       "      <td>1</td>\n",
       "      <td>7</td>\n",
       "      <td>0</td>\n",
       "      <td>6</td>\n",
       "      <td>4</td>\n",
       "    </tr>\n",
       "    <tr>\n",
       "      <th>Kar,</th>\n",
       "      <th>10</th>\n",
       "      <td>7</td>\n",
       "      <td>3</td>\n",
       "      <td>6</td>\n",
       "      <td>0</td>\n",
       "      <td>6</td>\n",
       "    </tr>\n",
       "    <tr>\n",
       "      <th>Adam</th>\n",
       "      <th>5</th>\n",
       "      <td>4</td>\n",
       "      <td>7</td>\n",
       "      <td>4</td>\n",
       "      <td>6</td>\n",
       "      <td>0</td>\n",
       "    </tr>\n",
       "  </tbody>\n",
       "</table></div>"
      ],
      "text/plain": [
       "Name      Bertie Jeremy Μολλυ Kar, Adam\n",
       "ID            8      3     9    10   5 \n",
       "Name   ID                              \n",
       "Bertie 8       0      8     1    7    4\n",
       "Jeremy 3       8      0     7    3    7\n",
       "Μολλυ  9       1      7     0    6    4\n",
       "Kar,   10      7      3     6    0    6\n",
       "Adam   5       4      7     4    6    0"
      ]
     },
     "execution_count": 240,
     "metadata": {},
     "output_type": "execute_result"
    }
   ],
   "source": [
    "dm"
   ]
  },
  {
   "cell_type": "code",
   "execution_count": 5,
   "id": "ad286fad",
   "metadata": {},
   "outputs": [],
   "source": [
    "import pandas as pd\n",
    "\n",
    "sheet_id = \"1zCjFOHdktWWpfdqu5MRBTiZAhYZVUSH836XVVYrUsFQ\"\n",
    "sheet_name = \"Form responses 1\"\n",
    "url = f\"https://docs.google.com/spreadsheets/d/{sheet_id}/gviz/tq?tqx=out:csv\""
   ]
  },
  {
   "cell_type": "code",
   "execution_count": 13,
   "id": "dc3603b7",
   "metadata": {},
   "outputs": [],
   "source": [
    "#pd.read_csv(url,on_bad_lines='skip')\n",
    "# Authentication problem"
   ]
  },
  {
   "cell_type": "code",
   "execution_count": 12,
   "id": "5fc08a77",
   "metadata": {},
   "outputs": [],
   "source": [
    "#import sys\n",
    "#!{sys.executable} -m pip install pygsheets"
   ]
  },
  {
   "cell_type": "code",
   "execution_count": 14,
   "id": "630379dd",
   "metadata": {},
   "outputs": [],
   "source": [
    "#import pygsheets\n",
    "\n",
    "#client = pygsheets.authorize()\n",
    "\n",
    "# Open the spreadsheet and the first sheet.\n",
    "#sh = client.open('spreadsheet-title')\n",
    "#wks = sh.sheet1\n",
    "\n",
    "# needs 'client_secret.json'"
   ]
  },
  {
   "cell_type": "code",
   "execution_count": 15,
   "id": "39773fed",
   "metadata": {},
   "outputs": [],
   "source": [
    "csv_filename = '/Users/sam/Downloads/Double Crux Questionnaire (Responses) - Form responses 1.csv'"
   ]
  },
  {
   "cell_type": "code",
   "execution_count": 23,
   "id": "ec82d30d",
   "metadata": {},
   "outputs": [
    {
     "data": {
      "text/html": [
       "<div><div id=401f0112-d064-4972-8e54-8ceacbd63838 style=\"display:none; background-color:#9D6CFF; color:white; width:200px; height:30px; padding-left:5px; border-radius:4px; flex-direction:row; justify-content:space-around; align-items:center;\" onmouseover=\"this.style.backgroundColor='#BA9BF8'\" onmouseout=\"this.style.backgroundColor='#9D6CFF'\" onclick=\"window.commands?.execute('create-mitosheet-from-dataframe-output');\">See Full Dataframe in Mito</div> <script> if (window.commands.hasCommand('create-mitosheet-from-dataframe-output')) document.getElementById('401f0112-d064-4972-8e54-8ceacbd63838').style.display = 'flex' </script> <table border=\"1\" class=\"dataframe\">\n",
       "  <thead>\n",
       "    <tr style=\"text-align: right;\">\n",
       "      <th></th>\n",
       "      <th>Timestamp</th>\n",
       "      <th>\"If my country asked me to fight a war, I would.\"</th>\n",
       "      <th>\"It's sometimes necessary to censor books.\"</th>\n",
       "      <th>\"It's OK to burn a country's flag.\"</th>\n",
       "    </tr>\n",
       "    <tr>\n",
       "      <th>Name</th>\n",
       "      <th></th>\n",
       "      <th></th>\n",
       "      <th></th>\n",
       "      <th></th>\n",
       "    </tr>\n",
       "  </thead>\n",
       "  <tbody>\n",
       "    <tr>\n",
       "      <th>Peace</th>\n",
       "      <td>12/07/2022 14:02:24</td>\n",
       "      <td>1</td>\n",
       "      <td>4</td>\n",
       "      <td>4</td>\n",
       "    </tr>\n",
       "    <tr>\n",
       "      <th>War</th>\n",
       "      <td>12/07/2022 14:07:21</td>\n",
       "      <td>7</td>\n",
       "      <td>4</td>\n",
       "      <td>4</td>\n",
       "    </tr>\n",
       "    <tr>\n",
       "      <th>Censor</th>\n",
       "      <td>12/07/2022 14:08:26</td>\n",
       "      <td>4</td>\n",
       "      <td>7</td>\n",
       "      <td>4</td>\n",
       "    </tr>\n",
       "    <tr>\n",
       "      <th>Test</th>\n",
       "      <td>12/07/2022 14:13:47</td>\n",
       "      <td>4</td>\n",
       "      <td>4</td>\n",
       "      <td>4</td>\n",
       "    </tr>\n",
       "    <tr>\n",
       "      <th>Free speech</th>\n",
       "      <td>13/07/2022 14:08:26</td>\n",
       "      <td>4</td>\n",
       "      <td>1</td>\n",
       "      <td>4</td>\n",
       "    </tr>\n",
       "  </tbody>\n",
       "</table></div>"
      ],
      "text/plain": [
       "                       Timestamp  \\\n",
       "Name                               \n",
       "Peace        12/07/2022 14:02:24   \n",
       "War          12/07/2022 14:07:21   \n",
       "Censor       12/07/2022 14:08:26   \n",
       "Test         12/07/2022 14:13:47   \n",
       "Free speech  13/07/2022 14:08:26   \n",
       "\n",
       "             \"If my country asked me to fight a war, I would.\"  \\\n",
       "Name                                                             \n",
       "Peace                                                        1   \n",
       "War                                                          7   \n",
       "Censor                                                       4   \n",
       "Test                                                         4   \n",
       "Free speech                                                  4   \n",
       "\n",
       "             \"It's sometimes necessary to censor books.\"  \\\n",
       "Name                                                       \n",
       "Peace                                                  4   \n",
       "War                                                    4   \n",
       "Censor                                                 7   \n",
       "Test                                                   4   \n",
       "Free speech                                            1   \n",
       "\n",
       "             \"It's OK to burn a country's flag.\"  \n",
       "Name                                              \n",
       "Peace                                          4  \n",
       "War                                            4  \n",
       "Censor                                         4  \n",
       "Test                                           4  \n",
       "Free speech                                    4  "
      ]
     },
     "execution_count": 23,
     "metadata": {},
     "output_type": "execute_result"
    }
   ],
   "source": [
    "pd.read_csv(csv_filename, index_col='Name')"
   ]
  },
  {
   "cell_type": "code",
   "execution_count": 64,
   "id": "97dfd449",
   "metadata": {},
   "outputs": [
    {
     "data": {
      "text/html": [
       "<div><div id=2a5a023d-4b19-4647-ae68-6e1785f946b5 style=\"display:none; background-color:#9D6CFF; color:white; width:200px; height:30px; padding-left:5px; border-radius:4px; flex-direction:row; justify-content:space-around; align-items:center;\" onmouseover=\"this.style.backgroundColor='#BA9BF8'\" onmouseout=\"this.style.backgroundColor='#9D6CFF'\" onclick=\"window.commands?.execute('create-mitosheet-from-dataframe-output');\">See Full Dataframe in Mito</div> <script> if (window.commands.hasCommand('create-mitosheet-from-dataframe-output')) document.getElementById('2a5a023d-4b19-4647-ae68-6e1785f946b5').style.display = 'flex' </script> <table border=\"1\" class=\"dataframe\">\n",
       "  <thead>\n",
       "    <tr style=\"text-align: right;\">\n",
       "      <th>Name</th>\n",
       "      <th>Peace</th>\n",
       "      <th>War</th>\n",
       "      <th>Censor</th>\n",
       "      <th>Test</th>\n",
       "      <th>Free speech</th>\n",
       "    </tr>\n",
       "    <tr>\n",
       "      <th>Name</th>\n",
       "      <th></th>\n",
       "      <th></th>\n",
       "      <th></th>\n",
       "      <th></th>\n",
       "      <th></th>\n",
       "    </tr>\n",
       "  </thead>\n",
       "  <tbody>\n",
       "    <tr>\n",
       "      <th>Peace</th>\n",
       "      <td>0</td>\n",
       "      <td>6</td>\n",
       "      <td>3</td>\n",
       "      <td>3</td>\n",
       "      <td>3</td>\n",
       "    </tr>\n",
       "    <tr>\n",
       "      <th>War</th>\n",
       "      <td>6</td>\n",
       "      <td>0</td>\n",
       "      <td>3</td>\n",
       "      <td>3</td>\n",
       "      <td>3</td>\n",
       "    </tr>\n",
       "    <tr>\n",
       "      <th>Censor</th>\n",
       "      <td>3</td>\n",
       "      <td>3</td>\n",
       "      <td>0</td>\n",
       "      <td>3</td>\n",
       "      <td>6</td>\n",
       "    </tr>\n",
       "    <tr>\n",
       "      <th>Test</th>\n",
       "      <td>3</td>\n",
       "      <td>3</td>\n",
       "      <td>3</td>\n",
       "      <td>0</td>\n",
       "      <td>3</td>\n",
       "    </tr>\n",
       "    <tr>\n",
       "      <th>Free speech</th>\n",
       "      <td>3</td>\n",
       "      <td>3</td>\n",
       "      <td>6</td>\n",
       "      <td>3</td>\n",
       "      <td>0</td>\n",
       "    </tr>\n",
       "  </tbody>\n",
       "</table></div>"
      ],
      "text/plain": [
       "Name         Peace  War  Censor  Test  Free speech\n",
       "Name                                              \n",
       "Peace            0    6       3     3            3\n",
       "War              6    0       3     3            3\n",
       "Censor           3    3       0     3            6\n",
       "Test             3    3       3     0            3\n",
       "Free speech      3    3       6     3            0"
      ]
     },
     "execution_count": 64,
     "metadata": {},
     "output_type": "execute_result"
    }
   ],
   "source": [
    "dm = build_distance_matrix(\n",
    "        pd.read_csv(csv_filename, index_col='Name'\n",
    "               ).drop('Timestamp', axis='columns'\n",
    "                     )\n",
    ").apply(pd.to_numeric)\n",
    "dm"
   ]
  },
  {
   "cell_type": "code",
   "execution_count": 65,
   "id": "b978bd8c",
   "metadata": {},
   "outputs": [
    {
     "data": {
      "text/plain": [
       "[('Peace', 'War'), ('Censor', 'Free speech'), 'Test']"
      ]
     },
     "execution_count": 65,
     "metadata": {},
     "output_type": "execute_result"
    }
   ],
   "source": [
    "greedy_sort(dm)"
   ]
  },
  {
   "cell_type": "code",
   "execution_count": null,
   "id": "f5af8b3e",
   "metadata": {},
   "outputs": [],
   "source": []
  }
 ],
 "metadata": {
  "kernelspec": {
   "display_name": "Python 3",
   "language": "python",
   "name": "python3"
  },
  "language_info": {
   "codemirror_mode": {
    "name": "ipython",
    "version": 3
   },
   "file_extension": ".py",
   "mimetype": "text/x-python",
   "name": "python",
   "nbconvert_exporter": "python",
   "pygments_lexer": "ipython3",
   "version": "3.8.0"
  }
 },
 "nbformat": 4,
 "nbformat_minor": 5
}
